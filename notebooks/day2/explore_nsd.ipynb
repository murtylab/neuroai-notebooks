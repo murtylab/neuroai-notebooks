{
 "cells": [
  {
   "cell_type": "code",
   "execution_count": 1,
   "id": "b07ac634-9eb8-4414-9823-1f28900c60e9",
   "metadata": {},
   "outputs": [],
   "source": [
    "from neuroai.datasets import NSDAllSubjectSingleRegion, download_and_extract_nsd\n",
    "import matplotlib.pyplot as plt"
   ]
  },
  {
   "cell_type": "code",
   "execution_count": null,
   "id": "14779189-082b-46b8-95e3-2833460265bd",
   "metadata": {},
   "outputs": [],
   "source": [
    "## takes up 439 MB\n",
    "download_and_extract_nsd(\n",
    "    zip_filename = \"nsd.zip\",\n",
    "    output_folder = \"./datasets\"\n",
    ")"
   ]
  },
  {
   "cell_type": "code",
   "execution_count": null,
   "id": "9001c0de-6751-4e69-ba33-d328be746a40",
   "metadata": {},
   "outputs": [],
   "source": [
    "region = \"FFA\"\n",
    "dataset = NSDAllSubjectSingleRegion(\n",
    "    folder=\"./datasets/nsd\",\n",
    "    region=region,\n",
    ")\n",
    "\n",
    "print(len(dataset))"
   ]
  },
  {
   "cell_type": "code",
   "execution_count": null,
   "id": "d1e1d3e9-4d90-42e8-a1ef-205be87418bc",
   "metadata": {},
   "outputs": [],
   "source": [
    "## what does it contain?\n",
    "print(dataset[0].keys())\n",
    "\n",
    "## what is the shape of the image?\n",
    "print(dataset[0][\"image\"].shape)"
   ]
  },
  {
   "cell_type": "code",
   "execution_count": null,
   "id": "26af06ff-57da-4a18-80f0-842d3471a6ee",
   "metadata": {},
   "outputs": [],
   "source": [
    "## let's visualize a few images\n",
    "## the transpose is needed because matplotlib expects (H, W, C), but we have (C, H, W)\n",
    "plt.imshow(dataset[30][\"image\"].transpose(1,2,0))\n",
    "plt.show()"
   ]
  },
  {
   "cell_type": "code",
   "execution_count": null,
   "id": "60a70ccc-404d-4c17-b7be-b90c5e7d18f3",
   "metadata": {},
   "outputs": [],
   "source": [
    "## now lets visualize the corresponding fMRI data\n",
    "## lets start by looking at the subjects we have:\n",
    "print(dataset[30][\"fmri_response\"].keys())\n",
    "\n",
    "## lets count the number of voxels in the subject's FFA\n",
    "subject_id = \"s1\"\n",
    "print(dataset[30][\"fmri_response\"][subject_id].shape)\n"
   ]
  },
  {
   "cell_type": "code",
   "execution_count": null,
   "id": "02194363-fb24-4811-85f0-e43b3934a2dc",
   "metadata": {},
   "outputs": [],
   "source": [
    "subject_id = \"s1\"\n",
    "sample_indices = [10, 20, 30]  # you can change or extend this list\n",
    "n_samples = len(sample_indices)\n",
    "fig, axes = plt.subplots(n_samples, 2, figsize=(7, 3 * n_samples))\n",
    "\n",
    "for i, idx in enumerate(sample_indices):\n",
    "    img = dataset[idx][\"image\"].transpose(1, 2, 0)\n",
    "    fmri = dataset[idx][\"fmri_response\"][subject_id].numpy()\n",
    "    # Handle axes for single row case\n",
    "    ax_img = axes[i, 0] if n_samples > 1 else axes[0]\n",
    "    ax_fmri = axes[i, 1] if n_samples > 1 else axes[1]\n",
    "    ax_img.imshow(img)\n",
    "    ax_img.set_title(f\"Image (idx={idx})\")\n",
    "    ax_img.axis('off')\n",
    "    ax_fmri.plot(fmri)\n",
    "    ax_fmri.set_title(f\"fMRI response in {subject_id}'s {region} (idx={idx})\")\n",
    "    ax_fmri.set_ylim(-3, 3)\n",
    "    ax_fmri.grid()\n",
    "\n",
    "plt.tight_layout()\n",
    "plt.show()"
   ]
  },
  {
   "cell_type": "code",
   "execution_count": null,
   "id": "a6328fe3-1167-4600-b3ce-57c6a4d8d476",
   "metadata": {},
   "outputs": [],
   "source": []
  }
 ],
 "metadata": {
  "kernelspec": {
   "display_name": "Python 3 (ipykernel)",
   "language": "python",
   "name": "python3"
  },
  "language_info": {
   "codemirror_mode": {
    "name": "ipython",
    "version": 3
   },
   "file_extension": ".py",
   "mimetype": "text/x-python",
   "name": "python",
   "nbconvert_exporter": "python",
   "pygments_lexer": "ipython3",
   "version": "3.10.16"
  }
 },
 "nbformat": 4,
 "nbformat_minor": 5
}
