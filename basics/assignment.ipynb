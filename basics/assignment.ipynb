{
 "cells": [
  {
   "cell_type": "markdown",
   "id": "df18ae15",
   "metadata": {},
   "source": [
    "# Task 1: Adding lists, safely\n",
    "\n",
    "Write a funtion which takes two lists as input, make sure that the have the same length (hint: use `assert`) and then adds up the corresponding items. Something like this: `[a, b] + [c, d] = [a+b, c+d]`. (Hint: use `for` loops)\n",
    "\n",
    "*(for both the tasks, use type-hinting wherever you feel it's necessary)*"
   ]
  },
  {
   "cell_type": "code",
   "execution_count": null,
   "id": "a19fa449",
   "metadata": {},
   "outputs": [],
   "source": []
  },
  {
   "cell_type": "markdown",
   "id": "d710e85d",
   "metadata": {},
   "source": [
    "# Task 2: Writing a simple class\n",
    "\n",
    "The goal is simple. Make a class `Car` with some attributes like name (`str`), number (`int`) and a position (`float`)\n",
    "Then make a few methods:\n",
    "\n",
    "1. `honk()` which prints something\n",
    "2. `move(direction = \"forward\", amount = 0.4)` that updates `self.position` by `amount`\n",
    "3. initiate two different instances of `car`, make them move randomly for 15 steps (use a `for` loop) and then find the distance between them (`car1.position - car2.position`)\n",
    "4. add another custom method of your choice to the class, whatever seems fun!"
   ]
  },
  {
   "cell_type": "code",
   "execution_count": null,
   "id": "55659a36",
   "metadata": {},
   "outputs": [],
   "source": []
  },
  {
   "cell_type": "markdown",
   "id": "36dbebca",
   "metadata": {},
   "source": [
    "To submit your work, simply paste the google drive link that points to your notebook. Make sure that it has the correct access rights."
   ]
  }
 ],
 "metadata": {
  "kernelspec": {
   "display_name": "Python 3 (ipykernel)",
   "language": "python",
   "name": "python3"
  }
 },
 "nbformat": 4,
 "nbformat_minor": 5
}
