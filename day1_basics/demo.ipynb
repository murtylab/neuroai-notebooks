{
 "cells": [
  {
   "cell_type": "markdown",
   "metadata": {},
   "source": [
    "Todos:\n",
    "\n",
    "0. printing stuff\n",
    "1. variables (`str`, `int`, `float`, `list`)\n",
    "2. operations\n",
    "3. lists\n",
    "4. loops\n",
    "5. functions\n",
    "6. classes\n",
    "\n",
    "(bonus)\n",
    "7. writing sane code (`typing`)\n",
    "8. writing safe code (`assert`)"
   ]
  },
  {
   "cell_type": "code",
   "execution_count": null,
   "metadata": {},
   "outputs": [],
   "source": []
  }
 ],
 "metadata": {
  "kernelspec": {
   "display_name": "Python 3 (ipykernel)",
   "language": "python",
   "name": "python3"
  },
  "language_info": {
   "codemirror_mode": {
    "name": "ipython",
    "version": 3
   },
   "file_extension": ".py",
   "mimetype": "text/x-python",
   "name": "python",
   "nbconvert_exporter": "python",
   "pygments_lexer": "ipython3",
   "version": "3.10.16"
  }
 },
 "nbformat": 4,
 "nbformat_minor": 2
}
